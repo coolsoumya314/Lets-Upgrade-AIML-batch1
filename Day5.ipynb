{
 "cells": [
  {
   "cell_type": "markdown",
   "metadata": {},
   "source": [
    "#  Python program to find the first 20 non-even prime natural numbers"
   ]
  },
  {
   "cell_type": "code",
   "execution_count": 1,
   "metadata": {},
   "outputs": [
    {
     "name": "stdout",
     "output_type": "stream",
     "text": [
      "11\n",
      "13\n",
      "17\n",
      "19\n",
      "23\n"
     ]
    }
   ],
   "source": [
    "# Python program to print all  \n",
    "# prime number in an interval \n",
    "  \n",
    "start = 11\n",
    "end = 25\n",
    "  \n",
    "for val in range(start, end + 1): \n",
    "    if val > 1: \n",
    "        for n in range(2, val//2 + 2): \n",
    "            if (val % n) == 0: \n",
    "                break\n",
    "            else: \n",
    "                if n == val//2 + 1: \n",
    "                    print(val) "
   ]
  },
  {
   "cell_type": "markdown",
   "metadata": {},
   "source": [
    "# Write a Python program to implement 15 functions of string."
   ]
  },
  {
   "cell_type": "code",
   "execution_count": 2,
   "metadata": {},
   "outputs": [
    {
     "name": "stdout",
     "output_type": "stream",
     "text": [
      "\n",
      "########################################################\n",
      "\n",
      "China : The String is alphanumeric.\n",
      "\n",
      "1974 : The String contains only digits.\n",
      "\n",
      "Australia : String contains only alphabetic characters.\n",
      "\n",
      "    : String contains only whitespace characters.\n",
      "\n",
      "JAPAN : All letters in the string are uppercase.\n",
      "\n",
      "India 1974 : Convert String in lowercase: india 1974 \n",
      "\n",
      "India 1974 : Convert String in uppercase: INDIA 1974 \n",
      "\n",
      "\n",
      "Left Strip: India 1974\n",
      "\n",
      "Left Strip with Character A: merica 1974\n",
      "\n",
      "Right Strip: America 1974     \n",
      "\n",
      "Right Strip with Character a: Americ\n",
      "\n",
      "Strip from both side : America 1974\n",
      "\n",
      "Strip with Character A: merica Russia Japan China\n",
      "Strip with Character a: America Russia Japan Chin\n",
      "\n",
      "endswith check whether a string ends with a specified substring\n",
      "True\n",
      "False\n",
      "\n",
      "startswith check if a string starts with a specified substring\n",
      "True\n",
      "False\n",
      "\n",
      "################## Find Method ##################\n",
      "2\n",
      "-1\n",
      "5\n",
      "-1\n",
      "0\n",
      "\n",
      "################## Replace Method ##################\n",
      "Hello Russia\n"
     ]
    }
   ],
   "source": [
    "##\n",
    "# Python's program to determine string entered by user is a palindrome.\n",
    " \n",
    " \n",
    "def main():\n",
    "    print('\\n########################################################\\n')\n",
    " \n",
    "    user_string = \"China\"\n",
    "    if user_string.isalnum():\n",
    "        print(user_string, ': The String is alphanumeric.\\n')\n",
    " \n",
    "    user_string = \"1974\"\n",
    "    if user_string.isdigit():\n",
    "        print(user_string, ': The String contains only digits.\\n')\n",
    " \n",
    "    user_string = \"Australia\"\n",
    "    if user_string.isalpha():\n",
    "        print(user_string, ': String contains only alphabetic characters.\\n')\n",
    " \n",
    "    user_string = \"   \"\n",
    "    if user_string.isspace():\n",
    "        print(user_string, ': String contains only whitespace characters.\\n')\n",
    " \n",
    "    user_string = \"JAPAN\"\n",
    "    if user_string.isupper():\n",
    "        print(user_string, ': All letters in the string are uppercase.\\n')\n",
    " \n",
    "    user_string = \"Australia 1974\"\n",
    "    if user_string.islower():\n",
    "        print(user_string, ': All letters in the string are lowercase.\\n')\n",
    " \n",
    "    user_string = \"India 1974\"\n",
    "    toLower = user_string.lower()\n",
    "    print(user_string, ': Convert String in lowercase:', toLower, '\\n')\n",
    " \n",
    "    toUpper = user_string.upper()\n",
    "    print(user_string, ': Convert String in uppercase:', toUpper, '\\n')\n",
    " \n",
    "    # lstrip() Returns a copy of the string with all leading whitespace\n",
    "    # characters removed, that appear at the beginning of the string.\n",
    "    user_string = \"   India 1974\"\n",
    "    print('\\nLeft Strip:', user_string.lstrip())\n",
    " \n",
    "    # lstrip(char) Returns a copy of the string with all instances of\n",
    "    # char that appear at the beginning of the string removed.\n",
    "    user_string = \"America 1974\"\n",
    "    print('\\nLeft Strip with Character A:', user_string.lstrip('A'))\n",
    " \n",
    "    # rstrip() Returns a copy of the string with all leading whitespace\n",
    "    # characters removed, that appear at the end of the string.\n",
    "    user_string = \"America 1974     \"\n",
    "    print('\\nRight Strip:', user_string.rstrip('A'))\n",
    " \n",
    "    # rstrip(char) Returns a copy of the string with all instances of\n",
    "    # char that appear at the end of the string.\n",
    "    user_string = \"America\"\n",
    "    print('\\nRight Strip with Character a:', user_string.rstrip('a'))\n",
    " \n",
    "    # strip() returns a copy of the string with all leading\n",
    "    # and trailing whitespace characters removed.\n",
    "    user_string = \"   America 1974    \"\n",
    "    print('\\nStrip from both side :', user_string.strip())\n",
    " \n",
    "    # strip(char) Returns a copy of the string with all instances of\n",
    "    # char that appear at the beginning and the end of the string removed.\n",
    "    user_string = \"America Russia Japan China\"\n",
    "    print('\\nStrip with Character A:', user_string.strip('A'))\n",
    "    print('Strip with Character a:', user_string.strip('a'))\n",
    " \n",
    "    # endswith(substring) The substring argument is a string.\n",
    "    # The method returns true if the string ends with substring.\n",
    "    print('\\nendswith check whether a string ends with a specified substring')\n",
    "    user_string = \"Columbia\"\n",
    "    print(user_string.endswith('bia'))\n",
    "    print(user_string.endswith('mia'))\n",
    " \n",
    "    # startswith(substring) The substring argument is a string.\n",
    "    # The method returns true if the string starts with substring.\n",
    "    print('\\nstartswith check if a string starts with a specified substring')\n",
    "    user_string = \"Columbia\"\n",
    "    print(user_string.startswith('Colum'))\n",
    "    print(user_string.startswith('Rolum'))\n",
    " \n",
    "    # The substring argument is a string. The method returns the lowest\n",
    "    # index in the string where substring is found.\n",
    "    print('\\n################## Find Method ##################')\n",
    "    user_string = \"Columbia\"\n",
    "    print(user_string.find('lumbia'))\n",
    "    print(user_string.find('colbia'))\n",
    "    print(user_string.find('bia'))\n",
    "    print(user_string.find('col'))\n",
    "    print(user_string.find('Col'))\n",
    " \n",
    "    # replace(old, new) The old and new arguments are both strings. The method\n",
    "    # returns a copy of the string with all instances of old replaced by new.\n",
    "    print('\\n################## Replace Method ##################')\n",
    "    user_string = \"Hello Columbia\"\n",
    "    old = \"Columbia\"\n",
    "    new = \"Russia\"\n",
    "    print(user_string.replace(old, new))\n",
    " \n",
    "main()"
   ]
  },
  {
   "cell_type": "markdown",
   "metadata": {},
   "source": [
    "# Write a Python program to check if the given string is a Palindrome or Anagram or None of them.\n",
    "Display the message accordingly to the user.\n"
   ]
  },
  {
   "cell_type": "code",
   "execution_count": 3,
   "metadata": {},
   "outputs": [
    {
     "name": "stdout",
     "output_type": "stream",
     "text": [
      "Yes\n"
     ]
    }
   ],
   "source": [
    "# function which return reverse of a string \n",
    "  \n",
    "def isPalindrome(s): \n",
    "    return s == s[::-1] \n",
    "  \n",
    "  \n",
    "# Driver code \n",
    "s = \"malayalam\"\n",
    "ans = isPalindrome(s) \n",
    "  \n",
    "if ans: \n",
    "    print(\"Yes\") \n",
    "else: \n",
    "    print(\"No\") "
   ]
  },
  {
   "cell_type": "code",
   "execution_count": 4,
   "metadata": {},
   "outputs": [
    {
     "name": "stdout",
     "output_type": "stream",
     "text": [
      "The strings are anagrams.\n"
     ]
    }
   ],
   "source": [
    "# function to check if two strings are \n",
    "# anagram or not  \n",
    "def check(s1, s2): \n",
    "      \n",
    "    # the sorted strings are checked  \n",
    "    if(sorted(s1)== sorted(s2)): \n",
    "        print(\"The strings are anagrams.\")  \n",
    "    else: \n",
    "        print(\"The strings aren't anagrams.\")          \n",
    "          \n",
    "# driver code   \n",
    "s1 =\"listen\"\n",
    "s2 =\"silent\" \n",
    "check(s1, s2) "
   ]
  },
  {
   "cell_type": "markdown",
   "metadata": {},
   "source": [
    "# Write a Python's user defined function that removes all the additional characters from the string\n",
    "and converts it finally to lower case using built-in lower()"
   ]
  },
  {
   "cell_type": "code",
   "execution_count": 5,
   "metadata": {},
   "outputs": [
    {
     "name": "stdout",
     "output_type": "stream",
     "text": [
      "Lower case characters = 17 Upper case characters = 8\n"
     ]
    }
   ],
   "source": [
    "# Python3 program to count upper and \n",
    "# lower case characters without using \n",
    "# inbuilt functions \n",
    "def upperlower(string): \n",
    "  \n",
    "    upper = 0\n",
    "    lower = 0\n",
    "  \n",
    "    for i in range(len(string)): \n",
    "          \n",
    "        # For lower letters \n",
    "        if (ord(string[i]) >= 97 and\n",
    "            ord(string[i]) <= 122): \n",
    "            lower += 1\n",
    "  \n",
    "        # For upper letters \n",
    "        elif (ord(string[i]) >= 65 and\n",
    "              ord(string[i]) <= 90): \n",
    "            upper += 1\n",
    "  \n",
    "    print('Lower case characters = %s' %lower, \n",
    "          'Upper case characters = %s' %upper) \n",
    "  \n",
    "# Driver Code \n",
    "string = 'Dr. Darshan Ingle @AI-ML Trainer'\n",
    "upperlower(string) "
   ]
  },
  {
   "cell_type": "code",
   "execution_count": 8,
   "metadata": {},
   "outputs": [
    {
     "name": "stdout",
     "output_type": "stream",
     "text": [
      "Original String : Dr. Darshan Ingle @AI-ML Trainer\n",
      "Resultant list is : Dr.DarshanIngleAIMLTrainer\n"
     ]
    }
   ],
   "source": [
    "# Python3 code to demonstrate  \n",
    "# removal of bad_chars \n",
    "# using replace() \n",
    "  \n",
    "# initializing bad_chars_list \n",
    "bad_chars = [';', '-', ' ', \"@\"] \n",
    "  \n",
    "# initializing test string  \n",
    "test_string = \"Dr. Darshan Ingle @AI-ML Trainer\"\n",
    "  \n",
    "# printing original string  \n",
    "print (\"Original String : \" + test_string) \n",
    "  \n",
    "# using replace() to  \n",
    "# remove bad_chars  \n",
    "for i in bad_chars : \n",
    "    test_string = test_string.replace(i, '') \n",
    "  \n",
    "# printing resultant string  \n",
    "print (\"Resultant list is : \" + str(test_string)) "
   ]
  },
  {
   "cell_type": "code",
   "execution_count": null,
   "metadata": {},
   "outputs": [],
   "source": []
  }
 ],
 "metadata": {
  "kernelspec": {
   "display_name": "Python 3",
   "language": "python",
   "name": "python3"
  },
  "language_info": {
   "codemirror_mode": {
    "name": "ipython",
    "version": 3
   },
   "file_extension": ".py",
   "mimetype": "text/x-python",
   "name": "python",
   "nbconvert_exporter": "python",
   "pygments_lexer": "ipython3",
   "version": "3.7.3"
  }
 },
 "nbformat": 4,
 "nbformat_minor": 2
}
