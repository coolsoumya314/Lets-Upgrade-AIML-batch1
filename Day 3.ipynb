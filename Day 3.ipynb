{
 "cells": [
  {
   "cell_type": "code",
   "execution_count": null,
   "metadata": {},
   "outputs": [],
   "source": []
  },
  {
   "cell_type": "markdown",
   "metadata": {},
   "source": [
    "# Write a program to subtract two complex numbers in Python."
   ]
  },
  {
   "cell_type": "code",
   "execution_count": 1,
   "metadata": {},
   "outputs": [
    {
     "name": "stdout",
     "output_type": "stream",
     "text": [
      "Subtraction is :  (1+1j)\n"
     ]
    }
   ],
   "source": [
    "# function that returns \n",
    "# a complex number after \n",
    "# subracting \n",
    "def subComplex( z1, z2): \n",
    "    return z1-z2 \n",
    "  \n",
    "# driver program \n",
    "z1 = complex(2, 3) \n",
    "z2 = complex(1, 2) \n",
    "print( \"Subtraction is : \", subComplex(z1, z2)) "
   ]
  },
  {
   "cell_type": "markdown",
   "metadata": {},
   "source": [
    "# Write a program to find the fourth root of a number"
   ]
  },
  {
   "cell_type": "code",
   "execution_count": null,
   "metadata": {},
   "outputs": [],
   "source": [
    "# Python Program to calculate the 4th root\n",
    "\n",
    "# Note: change this value for a different result\n",
    "num = 8 \n",
    "\n",
    "# To take the input from the user\n",
    "#num = float(input('Enter a number: '))\n",
    "\n",
    "num_sqrt = num ** 0.5\n",
    "print('The 4th root of %0.3f is %0.3f'%(num ,num_sqrt))"
   ]
  },
  {
   "cell_type": "code",
   "execution_count": null,
   "metadata": {},
   "outputs": [],
   "source": []
  },
  {
   "cell_type": "markdown",
   "metadata": {},
   "source": [
    "# Write a program to swap two numbers in Python with the help of a temporary variable."
   ]
  },
  {
   "cell_type": "code",
   "execution_count": 5,
   "metadata": {},
   "outputs": [
    {
     "name": "stdout",
     "output_type": "stream",
     "text": [
      "The value of x after swapping: 10\n",
      "The value of y after swapping: 5\n"
     ]
    }
   ],
   "source": [
    "# Python program to swap two variables\n",
    "\n",
    "x = 5\n",
    "y = 10\n",
    "\n",
    "# To take inputs from the user\n",
    "#x = input('Enter value of x: ')\n",
    "#y = input('Enter value of y: ')\n",
    "\n",
    "# create a temporary variable and swap the values\n",
    "temp = x\n",
    "x = y\n",
    "y = temp\n",
    "\n",
    "print('The value of x after swapping: {}'.format(x))\n",
    "print('The value of y after swapping: {}'.format(y))"
   ]
  },
  {
   "cell_type": "markdown",
   "metadata": {},
   "source": [
    "# Write a program to convert fahrenheit to kelvin and celsius both "
   ]
  },
  {
   "cell_type": "code",
   "execution_count": 6,
   "metadata": {},
   "outputs": [
    {
     "name": "stdout",
     "output_type": "stream",
     "text": [
      "Temperature in Kelvin ( K ) = 311.278\n"
     ]
    }
   ],
   "source": [
    "# Python program to convert temperature from \n",
    "# Fahrenheit to Kelvin \n",
    "  \n",
    "# Function to convert temperature \n",
    "def Fahrenheit_to_Kelvin(F): \n",
    "    return 273.5 + ((F - 32.0) * (5.0/9.0)) \n",
    "  \n",
    "# Driver function \n",
    "F = 100\n",
    "print(\"Temperature in Kelvin ( K ) = {:.3f}\" \n",
    "            .format(Fahrenheit_to_Kelvin( F )))"
   ]
  },
  {
   "cell_type": "markdown",
   "metadata": {},
   "source": [
    "# Write a program to demonstrate all the available data types in Python"
   ]
  },
  {
   "cell_type": "code",
   "execution_count": 7,
   "metadata": {},
   "outputs": [
    {
     "name": "stdout",
     "output_type": "stream",
     "text": [
      "Type of a:  <class 'int'>\n",
      "\n",
      "Type of b:  <class 'float'>\n",
      "\n",
      "Type of c:  <class 'complex'>\n"
     ]
    }
   ],
   "source": [
    "# Python program to  \n",
    "# demonstrate numeric value \n",
    "  \n",
    "a = 5\n",
    "print(\"Type of a: \", type(a)) \n",
    "  \n",
    "b = 5.0\n",
    "print(\"\\nType of b: \", type(b)) \n",
    "  \n",
    "c = 2 + 4j\n",
    "print(\"\\nType of c: \", type(c))"
   ]
  },
  {
   "cell_type": "code",
   "execution_count": 8,
   "metadata": {},
   "outputs": [
    {
     "name": "stdout",
     "output_type": "stream",
     "text": [
      "String with the use of Single Quotes: \n",
      "Welcome to the Geeks World\n",
      "\n",
      "String with the use of Double Quotes: \n",
      "I'm a Geek\n",
      "<class 'str'>\n",
      "\n",
      "String with the use of Triple Quotes: \n",
      "I'm a Geek and I live in a world of \"Geeks\"\n",
      "<class 'str'>\n",
      "\n",
      "Creating a multiline String: \n",
      "Geeks \n",
      "\t\t\tFor \n",
      "\t\t\tLife\n"
     ]
    }
   ],
   "source": [
    "# Python Program for \n",
    "# Creation of String \n",
    "\t\n",
    "# Creating a String \n",
    "# with single Quotes \n",
    "String1 = 'Welcome to the Geeks World'\n",
    "print(\"String with the use of Single Quotes: \") \n",
    "print(String1) \n",
    "\t\n",
    "# Creating a String \n",
    "# with double Quotes \n",
    "String1 = \"I'm a Geek\"\n",
    "print(\"\\nString with the use of Double Quotes: \") \n",
    "print(String1) \n",
    "print(type(String1)) \n",
    "\t\n",
    "# Creating a String \n",
    "# with triple Quotes \n",
    "String1 = '''I'm a Geek and I live in a world of \"Geeks\"'''\n",
    "print(\"\\nString with the use of Triple Quotes: \") \n",
    "print(String1) \n",
    "print(type(String1)) \n",
    "\n",
    "# Creating String with triple \n",
    "# Quotes allows multiple lines \n",
    "String1 = '''Geeks \n",
    "\t\t\tFor \n",
    "\t\t\tLife'''\n",
    "print(\"\\nCreating a multiline String: \") \n",
    "print(String1) \n"
   ]
  },
  {
   "cell_type": "markdown",
   "metadata": {},
   "source": [
    "# Create a Markdown cell in jupyter and list the steps discussed in the session by Dr. Darshan\n",
    "Ingle sir to create Github profile and upload Githubs Assignment link."
   ]
  },
  {
   "cell_type": "markdown",
   "metadata": {},
   "source": [
    "1. Go to https://github.com/join in a web browser. ...\n",
    "2. Enter your personal details. ...\n",
    "3. Click the green Create an account button. ...\n",
    "4. Complete the CAPTCHA puzzle. ...\n",
    "5. Click the Choose button for your desired plan. ...\n",
    "6. Click the Verify email address button in the message from GitHub. ...\n",
    "7. Review your plan selection and click Continue."
   ]
  }
 ],
 "metadata": {
  "kernelspec": {
   "display_name": "Python 3",
   "language": "python",
   "name": "python3"
  },
  "language_info": {
   "codemirror_mode": {
    "name": "ipython",
    "version": 3
   },
   "file_extension": ".py",
   "mimetype": "text/x-python",
   "name": "python",
   "nbconvert_exporter": "python",
   "pygments_lexer": "ipython3",
   "version": "3.7.3"
  }
 },
 "nbformat": 4,
 "nbformat_minor": 2
}
